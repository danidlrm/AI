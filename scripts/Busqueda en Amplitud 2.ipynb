{
 "cells": [
  {
   "cell_type": "code",
   "execution_count": 3,
   "id": "58b4e678-0fc8-4fb5-815b-1ee4f3ff6e4c",
   "metadata": {},
   "outputs": [
    {
     "name": "stdout",
     "output_type": "stream",
     "text": [
      "Collecting networkx\n",
      "  Downloading networkx-3.2.1-py3-none-any.whl.metadata (5.2 kB)\n",
      "Requirement already satisfied: matplotlib in /Users/mi24830/miniconda3/envs/ml_up/lib/python3.10/site-packages (3.8.0)\n",
      "Requirement already satisfied: contourpy>=1.0.1 in /Users/mi24830/miniconda3/envs/ml_up/lib/python3.10/site-packages (from matplotlib) (1.2.0)\n",
      "Requirement already satisfied: cycler>=0.10 in /Users/mi24830/miniconda3/envs/ml_up/lib/python3.10/site-packages (from matplotlib) (0.11.0)\n",
      "Requirement already satisfied: fonttools>=4.22.0 in /Users/mi24830/miniconda3/envs/ml_up/lib/python3.10/site-packages (from matplotlib) (4.25.0)\n",
      "Requirement already satisfied: kiwisolver>=1.0.1 in /Users/mi24830/miniconda3/envs/ml_up/lib/python3.10/site-packages (from matplotlib) (1.4.4)\n",
      "Requirement already satisfied: numpy<2,>=1.21 in /Users/mi24830/miniconda3/envs/ml_up/lib/python3.10/site-packages (from matplotlib) (1.23.5)\n",
      "Requirement already satisfied: packaging>=20.0 in /Users/mi24830/miniconda3/envs/ml_up/lib/python3.10/site-packages (from matplotlib) (23.1)\n",
      "Requirement already satisfied: pillow>=6.2.0 in /Users/mi24830/miniconda3/envs/ml_up/lib/python3.10/site-packages (from matplotlib) (10.0.1)\n",
      "Requirement already satisfied: pyparsing>=2.3.1 in /Users/mi24830/miniconda3/envs/ml_up/lib/python3.10/site-packages (from matplotlib) (3.0.9)\n",
      "Requirement already satisfied: python-dateutil>=2.7 in /Users/mi24830/miniconda3/envs/ml_up/lib/python3.10/site-packages (from matplotlib) (2.8.2)\n",
      "Requirement already satisfied: six>=1.5 in /Users/mi24830/miniconda3/envs/ml_up/lib/python3.10/site-packages (from python-dateutil>=2.7->matplotlib) (1.16.0)\n",
      "Downloading networkx-3.2.1-py3-none-any.whl (1.6 MB)\n",
      "\u001b[2K   \u001b[90m━━━━━━━━━━━━━━━━━━━━━━━━━━━━━━━━━━━━━━━━\u001b[0m \u001b[32m1.6/1.6 MB\u001b[0m \u001b[31m8.4 MB/s\u001b[0m eta \u001b[36m0:00:00\u001b[0m00:01\u001b[0m00:01\u001b[0m\n",
      "\u001b[?25hInstalling collected packages: networkx\n",
      "Successfully installed networkx-3.2.1\n"
     ]
    }
   ],
   "source": [
    "!pip install networkx matplotlib"
   ]
  },
  {
   "cell_type": "code",
   "execution_count": 8,
   "id": "d0507edc-38ce-4c7c-af99-89f5ab554105",
   "metadata": {},
   "outputs": [],
   "source": [
    "# Importamos las librerías para trabajar con BFS(Breadth-First Search)\n",
    "# Búsqueda en amplitud\n",
    "\n",
    "import networkx as nx\n",
    "import matplotlib.pyplot as plt\n",
    "from collections import deque"
   ]
  },
  {
   "cell_type": "code",
   "execution_count": 38,
   "id": "beb7ba63-171d-47bf-a137-2053103f386f",
   "metadata": {},
   "outputs": [],
   "source": [
    "# Definimos el grafo como un diccionario de listas de adyacencia\n",
    "grafo = {\n",
    "    'A': ['B', 'C'],\n",
    "    'B': ['A', 'D', 'E'],\n",
    "    'C': ['A'],\n",
    "    'D': ['B'],\n",
    "    'E': ['B', 'F', 'G'],\n",
    "    'F': ['E'],\n",
    "    'G': ['E']\n",
    "}\n",
    "\n",
    "# Nodo de inicio y nodo objetivo\n",
    "nodo_inicio = 'A'\n",
    "nodo_objetivo = 'F'"
   ]
  },
  {
   "cell_type": "code",
   "execution_count": 39,
   "id": "0304f326-a58e-4984-a7ad-113d51d0e7e5",
   "metadata": {},
   "outputs": [],
   "source": [
    "# Definimos nuestro algoritmo de búsqueda:\n",
    "\n",
    "def busqueda_amplitud(grafo, inicio, objetivo):\n",
    "    # El método set crea un conjunto de datos SIMILAR a una lista pero que\n",
    "    # NO puede tener elementos duplicados\n",
    "    visitados = set()\n",
    "    # (Doubly Ended Queue) Es un tio de lista que permite agregar y eliminar\n",
    "    # elementos ya sea a la izquiera o a la derecha de la misma\n",
    "    cola = deque([(inicio, [inicio])])\n",
    "\n",
    "    i = 1\n",
    "    while cola:\n",
    "        # Aquí removemos el primer elemento del set (El de la izquierda)\n",
    "        # y este será nuestro nodo actual, el resto, el camino (Path restante)\n",
    "        nodo_actual, camino = cola.popleft()\n",
    "        print(\"\\nIteración:\", i)\n",
    "        print(\"Nodo actual:\", nodo_actual)\n",
    "        \n",
    "        if nodo_actual == objetivo:\n",
    "            print(\"Camino encontrado:\", \"->\".join(camino))\n",
    "            return camino\n",
    "        \n",
    "        if nodo_actual not in visitados:\n",
    "            visitados.add(nodo_actual)\n",
    "            print(\"Nodos visitados\", visitados)\n",
    "            for vecino in grafo[nodo_actual]:\n",
    "                if vecino not in visitados:\n",
    "                    nueva_ruta = camino + [vecino]\n",
    "                    print(\"Nueva ruta:\", nueva_ruta)\n",
    "                    cola.append((vecino, nueva_ruta))\n",
    "        i += 1\n",
    "    print(\"No se encontró un camino al nodo objetivo.\")\n",
    "    return None"
   ]
  },
  {
   "cell_type": "code",
   "execution_count": 40,
   "id": "74db7a86-1c78-4736-8b38-61878a114860",
   "metadata": {},
   "outputs": [
    {
     "name": "stdout",
     "output_type": "stream",
     "text": [
      "\n",
      "Iteración: 1\n",
      "Nodo actual: A\n",
      "Nodos visitados {'A'}\n",
      "Nueva ruta: ['A', 'B']\n",
      "Nueva ruta: ['A', 'C']\n",
      "\n",
      "Iteración: 2\n",
      "Nodo actual: B\n",
      "Nodos visitados {'A', 'B'}\n",
      "Nueva ruta: ['A', 'B', 'D']\n",
      "Nueva ruta: ['A', 'B', 'E']\n",
      "\n",
      "Iteración: 3\n",
      "Nodo actual: C\n",
      "Nodos visitados {'A', 'B', 'C'}\n",
      "\n",
      "Iteración: 4\n",
      "Nodo actual: D\n",
      "Nodos visitados {'A', 'B', 'D', 'C'}\n",
      "\n",
      "Iteración: 5\n",
      "Nodo actual: E\n",
      "Nodos visitados {'A', 'B', 'D', 'C', 'E'}\n",
      "Nueva ruta: ['A', 'B', 'E', 'F']\n",
      "Nueva ruta: ['A', 'B', 'E', 'G']\n",
      "\n",
      "Iteración: 6\n",
      "Nodo actual: F\n",
      "Camino encontrado: A->B->E->F\n"
     ]
    }
   ],
   "source": [
    "# Realizamos la búsqueda en amplitud\n",
    "camino = busqueda_amplitud(grafo, nodo_inicio, nodo_objetivo)"
   ]
  },
  {
   "cell_type": "code",
   "execution_count": 41,
   "id": "79532fff-0703-4d69-9ef7-c940989d738d",
   "metadata": {},
   "outputs": [
    {
     "data": {
      "image/png": "[encoded data removed]",
      "text/plain": [
       "<Figure size 640x480 with 1 Axes>"
      ]
     },
     "metadata": {},
     "output_type": "display_data"
    }
   ],
   "source": [
    "# Creamos el gráfico\n",
    "G = nx.Graph(grafo)\n",
    "\n",
    "# Coloreamos los nodos según si están en el camino o no\n",
    "colores = ['blue' if nodo in camino else 'red' for nodo in G.nodes()]\n",
    "\n",
    "# Dibujamos el grafo\n",
    "pos = nx.spring_layout(G)\n",
    "nx.draw(G, pos, with_labels=True, node_color=colores, node_size=1000)\n",
    "plt.title(\"Búsqueda en Amplitud\")\n",
    "plt.show()"
   ]
  },
  {
   "cell_type": "code",
   "execution_count": null,
   "id": "740ca285-49cb-4b9a-a36e-7d9b39cd9013",
   "metadata": {},
   "outputs": [],
   "source": []
  }
 ],
 "metadata": {
  "kernelspec": {
   "display_name": "Python 3 (ipykernel)",
   "language": "python",
   "name": "python3"
  },
  "language_info": {
   "codemirror_mode": {
    "name": "ipython",
    "version": 3
   },
   "file_extension": ".py",
   "mimetype": "text/x-python",
   "name": "python",
   "nbconvert_exporter": "python",
   "pygments_lexer": "ipython3",
   "version": "3.10.13"
  }
 },
 "nbformat": 4,
 "nbformat_minor": 5
}
