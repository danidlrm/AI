{
 "cells": [
  {
   "cell_type": "code",
   "execution_count": 1,
   "id": "118608cb-3a41-4aa9-8c7e-e851dac85135",
   "metadata": {},
   "outputs": [],
   "source": [
    "# Definición del estado inicial y el estado objetivo\n",
    "estado_inicial = [['A'],\n",
    "                  ['B'],\n",
    "                  ['C']] # A, B, C en una pila\n",
    "\n",
    "estado_objetivo = [[],\n",
    "                   [],\n",
    "                   ['C', 'B', 'A']]  # El objetivo es moverlos todos a la tercera pila en orden inverso\n",
    "# ['A'], []\n",
    "# ['B'], []\n",
    "# ['C'], ['C', 'B', 'A']"
   ]
  },
  {
   "cell_type": "code",
   "execution_count": 2,
   "id": "a55f3cc5-b9cb-4ae1-b500-5ad52bd7fd31",
   "metadata": {},
   "outputs": [],
   "source": [
    "def evaluar_estado(estado_actual, estado_objetivo):\n",
    "    \"\"\"\n",
    "    Función de evaluación mejorada que considera tanto la posición correcta de los bloques\n",
    "    como la altura correcta de las pilas para comparar el estado actual con el estado objetivo.\n",
    "    \"\"\"\n",
    "    puntuacion = 0\n",
    "    for pila_actual, pila_objetivo in zip(estado_actual, estado_objetivo):\n",
    "        # Comparar las alturas de las pilas para dar prioridad a los movimientos que igualen estas alturas\n",
    "        if len(pila_actual) == len(pila_objetivo):\n",
    "            puntuacion += len(pila_objetivo) * 2  # Multiplicador para priorizar la altura correcta de la pila\n",
    "        # Sumar puntos por cada bloque en la posición correcta\n",
    "        for bloque_actual, bloque_objetivo in zip(pila_actual, pila_objetivo):\n",
    "            if bloque_actual == bloque_objetivo:\n",
    "                puntuacion += 1\n",
    "    return puntuacion"
   ]
  },
  {
   "cell_type": "code",
   "execution_count": 3,
   "id": "5af83812-fe1e-4fb6-9b55-365833b27241",
   "metadata": {},
   "outputs": [],
   "source": [
    "def obtener_vecinos(estado):\n",
    "    \"\"\"\n",
    "    Genera todos los estados vecinos posibles a partir del estado actual.\n",
    "    Un vecino se genera moviendo el bloque superior de una pila a otra.\n",
    "    \"\"\"\n",
    "    vecinos = []\n",
    "    for i, pila_origen in enumerate(estado):\n",
    "        if pila_origen:  # Si la pila no está vacía\n",
    "            for j in range(len(estado)):\n",
    "                if i != j:  # Evitar mover un bloque dentro de la misma pila\n",
    "                    estado_copia = [pila.copy() for pila in estado]\n",
    "                    bloque = estado_copia[i].pop()  # Remover el bloque superior\n",
    "                    estado_copia[j].append(bloque)  # Mover el bloque a otra pila\n",
    "                    vecinos.append(estado_copia)\n",
    "    return vecinos"
   ]
  },
  {
   "cell_type": "code",
   "execution_count": 6,
   "id": "53c59a64-a444-45ba-8178-9f4ea6c95909",
   "metadata": {},
   "outputs": [],
   "source": [
    "def hill_climbing(estado_inicial, estado_objetivo):\n",
    "    estado_actual = estado_inicial\n",
    "    puntuacion_actual = evaluar_estado(estado_actual, estado_objetivo)\n",
    "    \n",
    "    print(\"Objetivo:\")\n",
    "    for eo in estado_objetivo:\n",
    "        print(eo)\n",
    "    \n",
    "    while True:\n",
    "        vecinos = obtener_vecinos(estado_actual)\n",
    "        mejor_vecino = None\n",
    "        mejor_puntuacion = puntuacion_actual\n",
    "\n",
    "        print(\"____________\")\n",
    "        print(\"Actual:\")\n",
    "        for ea in estado_actual:\n",
    "            print(ea)\n",
    "        print(\"Puntos:\", mejor_puntuacion)\n",
    "        print(\"\")\n",
    "        \n",
    "        for vecino in vecinos:\n",
    "            puntuacion_vecino = evaluar_estado(vecino, estado_objetivo)\n",
    "            if puntuacion_vecino > mejor_puntuacion:\n",
    "                mejor_vecino = vecino\n",
    "                mejor_puntuacion = puntuacion_vecino\n",
    "        \n",
    "        if mejor_puntuacion == puntuacion_actual:\n",
    "            # No se encontraron vecinos con mejor puntuación, retornar el estado actual\n",
    "            return estado_actual\n",
    "        \n",
    "        # Actualizar el estado actual al mejor vecino encontrado\n",
    "        estado_actual = mejor_vecino\n",
    "        puntuacion_actual = mejor_puntuacion"
   ]
  },
  {
   "cell_type": "code",
   "execution_count": 8,
   "id": "806a644b-ffe9-4504-a5ea-6ce0527d3736",
   "metadata": {},
   "outputs": [
    {
     "name": "stdout",
     "output_type": "stream",
     "text": [
      "Objetivo:\n",
      "[]\n",
      "[]\n",
      "['C', 'B', 'A']\n",
      "____________\n",
      "Actual:\n",
      "['A']\n",
      "['B']\n",
      "['C']\n",
      "Puntos: 1\n",
      "\n",
      "____________\n",
      "Actual:\n",
      "['A']\n",
      "[]\n",
      "['C', 'B']\n",
      "Puntos: 2\n",
      "\n",
      "____________\n",
      "Actual:\n",
      "[]\n",
      "[]\n",
      "['C', 'B', 'A']\n",
      "Puntos: 9\n",
      "\n",
      "Estado final alcanzado:\n",
      "[]\n",
      "[]\n",
      "['C', 'B', 'A']\n"
     ]
    }
   ],
   "source": [
    "solucion = hill_climbing(estado_inicial, estado_objetivo)\n",
    "print(\"Estado final alcanzado:\")\n",
    "for pila in solucion:\n",
    "    print(pila)"
   ]
  },
  {
   "cell_type": "code",
   "execution_count": null,
   "id": "c895bec9",
   "metadata": {},
   "outputs": [],
   "source": []
  }
 ],
 "metadata": {
  "kernelspec": {
   "display_name": "Python 3 (ipykernel)",
   "language": "python",
   "name": "python3"
  },
  "language_info": {
   "codemirror_mode": {
    "name": "ipython",
    "version": 3
   },
   "file_extension": ".py",
   "mimetype": "text/x-python",
   "name": "python",
   "nbconvert_exporter": "python",
   "pygments_lexer": "ipython3",
   "version": "3.9.17"
  }
 },
 "nbformat": 4,
 "nbformat_minor": 5
}
